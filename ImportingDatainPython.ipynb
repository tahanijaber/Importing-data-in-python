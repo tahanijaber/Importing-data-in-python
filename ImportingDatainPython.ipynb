{
  "nbformat": 4,
  "nbformat_minor": 0,
  "metadata": {
    "colab": {
      "name": "ImportingDatainPython.ipynb",
      "provenance": [],
      "collapsed_sections": []
    },
    "kernelspec": {
      "name": "python3",
      "display_name": "Python 3"
    },
    "language_info": {
      "name": "python"
    }
  },
  "cells": [
    {
      "cell_type": "code",
      "metadata": {
        "id": "yFdG_O-dtPFN",
        "colab": {
          "base_uri": "https://localhost:8080/"
        },
        "outputId": "e63b651e-9d52-4ee0-a156-04b33932c4ec"
      },
      "source": [
        "from google.colab import drive\n",
        "drive.mount('/content/drive')\n"
      ],
      "execution_count": null,
      "outputs": [
        {
          "output_type": "stream",
          "name": "stdout",
          "text": [
            "Drive already mounted at /content/drive; to attempt to forcibly remount, call drive.mount(\"/content/drive\", force_remount=True).\n"
          ]
        }
      ]
    },
    {
      "cell_type": "code",
      "metadata": {
        "id": "VbX08gButkrF"
      },
      "source": [
        "import pandas as pd\n",
        "import numpy as np\n"
      ],
      "execution_count": null,
      "outputs": []
    },
    {
      "cell_type": "code",
      "source": [
        "path = \"/content/drive/MyDrive/addresses.csv\"\n",
        "df_bonus = pd.read_csv(path)"
      ],
      "metadata": {
        "id": "Bg_Z2mDqpYru"
      },
      "execution_count": null,
      "outputs": []
    },
    {
      "cell_type": "code",
      "metadata": {
        "colab": {
          "base_uri": "https://localhost:8080/"
        },
        "id": "XQM5UVbePU7K",
        "outputId": "3df8dd59-cca1-4424-bd29-61a2b37836cc"
      },
      "source": [
        "print(df_bonus)"
      ],
      "execution_count": null,
      "outputs": [
        {
          "output_type": "stream",
          "name": "stdout",
          "text": [
            "                    John       Doe  ...   NJ  08075\n",
            "0                   Jack  McGinnis  ...   PA   9119\n",
            "1          John \"Da Man\"    Repici  ...   NJ   8075\n",
            "2                Stephen     Tyler  ...   SD  91234\n",
            "3                    NaN  Blankman  ...   SD    298\n",
            "4  Joan \"the bone\", Anne       Jet  ...   CO    123\n",
            "\n",
            "[5 rows x 6 columns]\n"
          ]
        }
      ]
    },
    {
      "cell_type": "code",
      "metadata": {
        "id": "KuVFOLdMuEEd",
        "colab": {
          "base_uri": "https://localhost:8080/"
        },
        "outputId": "bcc09894-7c1a-4ecb-f141-2a69a4b37be5"
      },
      "source": [
        "text_path = \"/content/drive/MyDrive/sample3.txt\"\n",
        "text = pd.read_table(text_path)\n",
        "print(text)"
      ],
      "execution_count": null,
      "outputs": [
        {
          "output_type": "stream",
          "name": "stdout",
          "text": [
            "                         Quod equidem non reprehendo;\n",
            "0   Lorem ipsum dolor sit amet, consectetur adipis...\n",
            "1   Iam id ipsum absurdum, maximum malum neglegi. ...\n",
            "2                           Quis istum dolorem timet?\n",
            "3   Summus dolor plures dies manere non potest? Di...\n",
            "4   Ex eorum enim scriptis et institutis cum omnis...\n",
            "5   Quod si ita est, sequitur id ipsum, quod te ve...\n",
            "6   Quem si tenueris, non modo meum Ciceronem, sed...\n",
            "7   Stulti autem malorum memoria torquentur, sapie...\n",
            "8   Esse enim quam vellet iniquus iustus poterat i...\n",
            "9   Quae autem natura suae primae institutionis ob...\n",
            "10  Verum tamen cum de rebus grandioribus dicas, i...\n",
            "11  Hoc est non modo cor non habere, sed ne palatu...\n",
            "12  Voluptatem cum summum bonum diceret, primum in...\n",
            "13                              Idemne, quod iucunde?\n",
            "14  Haec mihi videtur delicatior, ut ita dicam, mo...\n"
          ]
        }
      ]
    },
    {
      "cell_type": "code",
      "source": [
        "excel_path= \"/content/drive/MyDrive/ir211wk12sample.xls\"\n",
        "excel= pd.ExcelFile(excel_path)\n",
        "print(excel)\n"
      ],
      "metadata": {
        "colab": {
          "base_uri": "https://localhost:8080/"
        },
        "id": "5kiRrZ5Srd9V",
        "outputId": "7b44f1f5-4c84-4c28-d923-5bb2abdf4397"
      },
      "execution_count": null,
      "outputs": [
        {
          "output_type": "stream",
          "name": "stdout",
          "text": [
            "<pandas.io.excel._base.ExcelFile object at 0x7f2713c68f50>\n"
          ]
        }
      ]
    },
    {
      "cell_type": "code",
      "source": [
        "import urllib\n",
        "from urllib.request import urlretrieve\n",
        "\n",
        "url = 'https://people.sc.fsu.edu/~jburkardt/data/csv/airtravel.csv'\n",
        "\n",
        "urlretrieve(url, 'airtravel.csv')\n",
        "\n",
        "df_web = pd.read_csv('airtravel.csv')\n",
        "\n",
        "print(df_web)\n"
      ],
      "metadata": {
        "colab": {
          "base_uri": "https://localhost:8080/"
        },
        "id": "g5wPKOtps-yH",
        "outputId": "8edeb091-45d8-4922-dded-9a269816cfd8"
      },
      "execution_count": null,
      "outputs": [
        {
          "output_type": "stream",
          "name": "stdout",
          "text": [
            "   Month   \"1958\"   \"1959\"   \"1960\"\n",
            "0    JAN      340      360      417\n",
            "1    FEB      318      342      391\n",
            "2    MAR      362      406      419\n",
            "3    APR      348      396      461\n",
            "4    MAY      363      420      472\n",
            "5    JUN      435      472      535\n",
            "6    JUL      491      548      622\n",
            "7    AUG      505      559      606\n",
            "8    SEP      404      463      508\n",
            "9    OCT      359      407      461\n",
            "10   NOV      310      362      390\n",
            "11   DEC      337      405      432\n"
          ]
        }
      ]
    },
    {
      "cell_type": "code",
      "source": [
        "#!pip install db-sqlite3\n",
        "import sqlite3"
      ],
      "metadata": {
        "id": "m49GcL3Hxc9Y"
      },
      "execution_count": null,
      "outputs": []
    },
    {
      "cell_type": "code",
      "source": [
        "import pandas as pd\n",
        "\n",
        "data = pd.read_csv (r'/content/drive/MyDrive/username.csv')   \n",
        "#df = pd.DataFrame(data)\n",
        "\n",
        "print(df)"
      ],
      "metadata": {
        "id": "CERvJ8OP5oE3",
        "colab": {
          "base_uri": "https://localhost:8080/"
        },
        "outputId": "aaecd6a6-4fcc-402f-fc41-e394739d25c1"
      },
      "execution_count": null,
      "outputs": [
        {
          "output_type": "stream",
          "name": "stdout",
          "text": [
            "  Username; Identifier;First name;Last name\n",
            "0               booker12;9012;Rachel;Booker\n",
            "1                    grey07;2070;Laura;Grey\n",
            "2              johnson81;4081;Craig;Johnson\n",
            "3               jenkins46;9346;Mary;Jenkins\n",
            "4                  smith79;5079;Jamie;Smith\n"
          ]
        }
      ]
    },
    {
      "cell_type": "code",
      "source": [
        ""
      ],
      "metadata": {
        "id": "KwPMR-VkVqXT"
      },
      "execution_count": null,
      "outputs": []
    },
    {
      "cell_type": "code",
      "source": [
        "    import sqlite3\n",
        "    conn = sqlite3.connect('my_data.db')\n",
        "    c = conn.cursor()"
      ],
      "metadata": {
        "id": "T_lL6MiNheZ0"
      },
      "execution_count": null,
      "outputs": []
    },
    {
      "cell_type": "code",
      "source": [
        "    c.execute('''CREATE TABLE users (user_id int, username text)''')\n",
        "\n"
      ],
      "metadata": {
        "colab": {
          "base_uri": "https://localhost:8080/"
        },
        "id": "n-SzSmaLjxmu",
        "outputId": "7bc0a5c4-bd70-4a6a-b5ea-02264ebbeeb8"
      },
      "execution_count": null,
      "outputs": [
        {
          "output_type": "execute_result",
          "data": {
            "text/plain": [
              "<sqlite3.Cursor at 0x7fe941889ea0>"
            ]
          },
          "metadata": {},
          "execution_count": 37
        }
      ]
    },
    {
      "cell_type": "code",
      "source": [
        "users = pd.read_csv(r'/content/drive/MyDrive/username.csv')\n",
        "# write the data to a sqlite table\n",
        "users.to_sql('username', conn, if_exists='append', index = False)"
      ],
      "metadata": {
        "colab": {
          "base_uri": "https://localhost:8080/"
        },
        "id": "TbcvQBtxj0Rx",
        "outputId": "c55a55be-40a1-42b2-c545-aa3720cae230"
      },
      "execution_count": null,
      "outputs": [
        {
          "output_type": "stream",
          "name": "stderr",
          "text": [
            "/usr/local/lib/python3.7/dist-packages/pandas/core/generic.py:2615: UserWarning: The spaces in these column names will not be changed. In pandas versions < 0.14, spaces were converted to underscores.\n",
            "  method=method,\n"
          ]
        }
      ]
    },
    {
      "cell_type": "code",
      "source": [
        "data = pd.read_csv (r'/content/drive/MyDrive/username.csv')  \n",
        "print(data)"
      ],
      "metadata": {
        "colab": {
          "base_uri": "https://localhost:8080/"
        },
        "id": "plbqud8kj3gD",
        "outputId": "2e9c35b9-26cc-4198-c960-09f6fd0fce40"
      },
      "execution_count": null,
      "outputs": [
        {
          "output_type": "stream",
          "name": "stdout",
          "text": [
            "  Username; Identifier;First name;Last name\n",
            "0               booker12;9012;Rachel;Booker\n",
            "1                    grey07;2070;Laura;Grey\n",
            "2              johnson81;4081;Craig;Johnson\n",
            "3               jenkins46;9346;Mary;Jenkins\n",
            "4                  smith79;5079;Jamie;Smith\n"
          ]
        }
      ]
    },
    {
      "cell_type": "code",
      "source": [
        "   n= c.execute('''SELECT * FROM username''').fetchall() "
      ],
      "metadata": {
        "id": "2DFsQ7W5mpQy"
      },
      "execution_count": null,
      "outputs": []
    },
    {
      "cell_type": "code",
      "source": [
        "print(n)"
      ],
      "metadata": {
        "colab": {
          "base_uri": "https://localhost:8080/"
        },
        "id": "jEu1TDpJnYri",
        "outputId": "f386daa9-341a-47ba-bcc8-ef69e7a48d4e"
      },
      "execution_count": null,
      "outputs": [
        {
          "output_type": "stream",
          "name": "stdout",
          "text": [
            "[('booker12;9012;Rachel;Booker',), ('grey07;2070;Laura;Grey',), ('johnson81;4081;Craig;Johnson',), ('jenkins46;9346;Mary;Jenkins',), ('smith79;5079;Jamie;Smith',)]\n"
          ]
        }
      ]
    },
    {
      "cell_type": "code",
      "source": [
        ""
      ],
      "metadata": {
        "id": "CUpdg96jnf0h"
      },
      "execution_count": null,
      "outputs": []
    }
  ]
}